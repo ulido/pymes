{
 "cells": [
  {
   "cell_type": "markdown",
   "metadata": {},
   "source": [
    "# Basic Spatially-Extended Stochastic Lotka-Volterra Model"
   ]
  },
  {
   "cell_type": "markdown",
   "metadata": {},
   "source": [
    "In this first example, we want to focus on a simple spatially-extended system. We look at the dynamics of a predator and a prey species interacting on a two-dimensional lattice."
   ]
  },
  {
   "cell_type": "markdown",
   "metadata": {},
   "source": [
    "To start, we need to install and load the `pymes` library. We only load what we need so not to clutter our environment."
   ]
  },
  {
   "cell_type": "code",
   "execution_count": null,
   "metadata": {},
   "outputs": [],
   "source": [
    "from pymes import World, Species, BirthReaction, DeathReaction, PredationBirthReaction, Hop"
   ]
  },
  {
   "cell_type": "markdown",
   "metadata": {},
   "source": [
    "Next, we set up the world. This involves setting up the species (the predator A and the prey B) and the reactions (B can give birth, A can die and predate upon B). The following are the parameters of the simulation:\n",
    "* `size`: This is the size of the 2D lattice and is specified as a tuple of two integers (the width and the height) like so `(256, 256)`. It is a good idea to start small since larger lattices take more memory and more computational time to simulate.\n",
    "* `sigma`: This is the prey (species \"B\") birth rate. It regulates how quickly prey will reproduce.\n",
    "* `mu`: This is the predator (species \"A\") death rate. It regulates how quickly predators are removed from the system.\n",
    "* `lam`: This is the predation rate. It regulates how efficiently predators (species \"A\") consume prey (species \"B\") and reproduce at the same time.\n",
    "* `hA` and `hB`: This is the hop rate, which in typically is left at a value of `1` since this will only rescale time. It could be varied for each species separately, such that prey e.g. more static than predators or vice-versa.\n",
    "* `rhoA` and `rhoB`: This is the initial density of the predators (species \"A\") and prey (species \"B\"). It specifies how many occupants of each species will be present on each lattice site on average.\n",
    "* `T`: Specifies the end time of the simulation, i.e. how many Monte Carlo steps will be performed."
   ]
  },
  {
   "cell_type": "code",
   "execution_count": null,
   "metadata": {},
   "outputs": [],
   "source": [
    "# The simulation parameters\n",
    "size = (100, 100)\n",
    "sigma: float = 0.1\n",
    "mu: float = 0.1\n",
    "lam: float = 0.1\n",
    "hA: float = 1.0\n",
    "hB: float = 1.0\n",
    "rhoA: float = 0.01\n",
    "rhoB: float = 1.0\n",
    "T: int = 1000\n",
    "\n",
    "# Predator and prey species\n",
    "A = Species(\"A\")\n",
    "B = Species(\"B\")\n",
    "\n",
    "# The reactions\n",
    "reactions = {\n",
    "    A: [\n",
    "        PredationBirthReaction(A, B, lam),\n",
    "        DeathReaction(A, mu),\n",
    "    ],\n",
    "    B: [\n",
    "        BirthReaction(B, sigma),\n",
    "    ]\n",
    "}\n",
    "\n",
    "# Initialization of the world\n",
    "world = World(\n",
    "    size=size,\n",
    "    initial_densities={B: rhoB, A: rhoA},\n",
    "    hops={A: Hop(A, hA), B: Hop(B, hB)},\n",
    "    reactions=reactions,\n",
    ")"
   ]
  },
  {
   "cell_type": "markdown",
   "metadata": {},
   "source": [
    "Now we're ready to tun the simulations. We run `T` Monte Carlo steps (default is 1000). How long this takes will depend on the parameter settings above and the hardware this is being run on. With the default parameters on a typical Google Colab node it takes about five minutes. This might be significantly less when run on a modern laptop or desktop machine.\n",
    "\n",
    "Please note that the goal of the `pymes` module is not computational efficiency but rather code clarity as it is an educational project. This could easily be made to run 100x faster if proper optimizations are applied, however this would sacrifice the readability of the module's code."
   ]
  },
  {
   "cell_type": "code",
   "execution_count": null,
   "metadata": {},
   "outputs": [],
   "source": [
    "from tqdm.notebook import tqdm\n",
    "tqdm.monitor_interval = 0\n",
    "\n",
    "# Initialize list that will hold a view of the lattice state at each step.\n",
    "# The first entry shows the initial distribution of species site occupants.\n",
    "numbers = [world.asarrays()]\n",
    "\n",
    "# Iterate over `T` time steps\n",
    "# `tqdm` is a tool to display a progress bar.\n",
    "for _ in tqdm(range(T), smoothing=0, desc=\"Simulation progress\"):\n",
    "    # Run a single time step\n",
    "    world.step()\n",
    "    # Save the state of the lattice (distribution of occupants)\n",
    "    numbers.append(world.asarrays())"
   ]
  },
  {
   "cell_type": "markdown",
   "metadata": {},
   "source": [
    "After this has successfully run, we'd like to visualize the results. The code in the cell below displays an interactive graph where you can see the state of the lattice at each step (left side), together with a plot of the species densities over time (right side). "
   ]
  },
  {
   "cell_type": "code",
   "execution_count": null,
   "metadata": {},
   "outputs": [],
   "source": [
    "# Display matplotlib figures inline (not the interactive notebook extension)\n",
    "%matplotlib inline\n",
    "# Load modules\n",
    "from matplotlib.figure import Figure\n",
    "from ipywidgets import interact\n",
    "import numpy as np\n",
    "from IPython.display import display\n",
    "\n",
    "# Initialize figure and axes\n",
    "fig = Figure(figsize=(8, 4), dpi=150)\n",
    "ax = fig.add_axes([0, 0, 0.5, 1])\n",
    "# We don't want any decorations on the axes.\n",
    "ax.axis('off')\n",
    "plot = fig.add_axes([0.6, 0.1, 0.4, 0.8])\n",
    "\n",
    "# Extract densities from species distribution arrays\n",
    "N = size[0]*size[1]\n",
    "A_densities, B_densities = zip(*[(entry[\"A\"].sum()/N, entry[\"B\"].sum()/N) for entry in numbers])\n",
    "\n",
    "# Plot the densities\n",
    "plot.plot(A_densities, color=\"red\", label=\"A\")\n",
    "plot.plot(B_densities, color=\"blue\", label=\"B\")\n",
    "# Label the plot\n",
    "plot.set_yscale(\"log\", base=10)\n",
    "plot.set_ylabel(\"Species density [occupants/site]\")\n",
    "plot.set_xlabel(\"Time [MC steps]\")\n",
    "\n",
    "# This code displays the correct view of the lattice given the MC step\n",
    "mappable = None\n",
    "vline = None\n",
    "def show_image(MC_step=0):\n",
    "    global mappable, vline  # Hackish, but easy, avoid global if possible.\n",
    "\n",
    "    # Load array of lattice occupant numbers\n",
    "    arrays = numbers[MC_step]\n",
    "    # Create a red and blue image\n",
    "    # `image` is a WxHx3 image where the three channels at the end correspond to red-green-blue\n",
    "    image = np.zeros((size[0], size[1], 3), dtype=np.uint8)\n",
    "    # Make a pixel that has at least one predator red, at least one prey blue and purple if both are present.\n",
    "    # Leave the green channel alone.\n",
    "    image[:, :, 0] = 255*(arrays[\"A\"] > 0)\n",
    "    image[:, :, 2] = 255*(arrays[\"B\"] > 0)\n",
    "    if mappable is None:\n",
    "        # We need to create the mappable first, afterwards we can just load data into it.\n",
    "        mappable = ax.imshow(image)\n",
    "        # Similar for the vline indicating the MC step we're at.\n",
    "        vline = plot.axvline(0, color=\"black\")\n",
    "    else:\n",
    "        # Load data into mappable and vline.\n",
    "        mappable.set_data(image)\n",
    "        vline.set_xdata([MC_step])\n",
    "\n",
    "    # Finally, display the updated figure.\n",
    "    display(fig)\n",
    "\n",
    "# THis lets us have a slider to select the MC step to display.\n",
    "interact(show_image, MC_step=(0, len(numbers)-1))\n",
    "None"
   ]
  },
  {
   "cell_type": "markdown",
   "metadata": {},
   "source": [
    "With the default parameters, what you should see if you scroll through the MC steps above is that initially the preys (`B`) are abundant while the predators (`A`) are sparsely distributed. The `B`s reproduce, however after 20 steps or so, the `A`s start to catch up, consuming `B`s and reproducing. This leads to an initial massive explosion of species `A`, and species `B` is driven almost to extinction. Species `A` runs out of `B` occupants to consume and itself rapidly drops in numbers. This allows `B` to recover, and the cycle repeats a few times. These are the famous Lotka-Volterra oscillations. However, in contrast to the popular mean-field equation model, these oscillations here are damped due to the spatially extended and stochastic nature of this system. After a few hundred steps, the system will have settled into a steady state where species numbers fluctuate around coexistence densities."
   ]
  }
 ],
 "metadata": {
  "kernelspec": {
   "display_name": ".venv",
   "language": "python",
   "name": "python3"
  },
  "language_info": {
   "codemirror_mode": {
    "name": "ipython",
    "version": 3
   },
   "file_extension": ".py",
   "mimetype": "text/x-python",
   "name": "python",
   "nbconvert_exporter": "python",
   "pygments_lexer": "ipython3",
   "version": "3.12.4"
  },
  "orig_nbformat": 4
 },
 "nbformat": 4,
 "nbformat_minor": 2
}
