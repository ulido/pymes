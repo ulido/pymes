{
 "cells": [
  {
   "cell_type": "markdown",
   "metadata": {},
   "source": [
    "# Activity Fronts in Spatially-Extended Stochastic Lotka-Volterra Model"
   ]
  },
  {
   "cell_type": "markdown",
   "metadata": {},
   "source": [
    "In this example, we examine activity fronts in the Lotka-Volterra system on a lattice. Activity fronts are waves of predator particles invading into a region filled with prey that was previously predator-free. The likely reason for the previous absence of predators is that an activity front has \"ravaged\" this region before and only now prey have come back here in sufficient numbers to support another wave of predators."
   ]
  },
  {
   "cell_type": "markdown",
   "metadata": {},
   "source": [
    "To start, we need to install and load the `pymes` library. We only load what we need so not to clutter our environment."
   ]
  },
  {
   "cell_type": "code",
   "execution_count": null,
   "metadata": {},
   "outputs": [],
   "source": [
    "from pymes import World, Species, BirthReaction, DeathReaction, PredationBirthReaction, Hop"
   ]
  },
  {
   "cell_type": "markdown",
   "metadata": {},
   "source": [
    "Next, we set up the world. This is very similar to the basic example. It again involves setting up the species (the predator A and the prey B) and the reactions (B can give birth, A can die and predate upon B). The main differences are that we make the world bigger to study activity fronts, and that we fill the lattice with prey particles that can neither reproduce nor move. This is an intentional oversimplification. We leave it as an exercise to make it more realistic. The following are the parameters of the simulation:\n",
    "* `size`: This is the size of the 2D lattice and is specified as a tuple of two integers (the width and the height) like so `(500, 500)`. This value is a good size to study activity fronts, but it also means that single runs can take a while to complete.\n",
    "* `sigma`: This is the prey (species \"B\") birth rate. It regulates how quickly prey will reproduce. We set this to zero here, since we don't want prey to reproduce for now (but there is no reason to not turn on reproduction later).\n",
    "* `mu`: This is the predator (species \"A\") death rate. It regulates how quickly predators are removed from the system.\n",
    "* `lam`: This is the predation rate. It regulates how efficiently predators (species \"A\") consume prey (species \"B\") and reproduce at the same time. We will vary this below to see how it affects the speed of activity fronts.\n",
    "* `hA` and `hB`: These are the hop rates of the species. We let the predators move freely, but will keep the prey stationary. Again, we leave it as an exercise to turn on prey movement and see how that affects activity fronts.\n",
    "* `nA` and `nB`: We set up the system such that every lattice site is filled with `nB=5` prey particles. We then seed the center of the lattice with `nA=10` predators.\n",
    "* `T`: Specifies the end time of the simulation, i.e. how many Monte Carlo steps will be performed."
   ]
  },
  {
   "cell_type": "code",
   "execution_count": null,
   "metadata": {},
   "outputs": [],
   "source": [
    "# The simulation parameters\n",
    "size = (200, 200)\n",
    "sigma: float = 0.0\n",
    "mu: float = 0.2\n",
    "lam: float = 0.5\n",
    "hA: float = 1.0\n",
    "hB: float = 0.0\n",
    "nA: int = 10\n",
    "nB: int = 5\n",
    "T: int = 50\n",
    "\n",
    "# Predator and prey species\n",
    "A = Species(\"A\")\n",
    "B = Species(\"B\")\n",
    "\n",
    "# The reactions\n",
    "reactions = {\n",
    "    A: [\n",
    "        PredationBirthReaction(A, B, lam),\n",
    "        DeathReaction(A, mu),\n",
    "    ],\n",
    "    B: [\n",
    "        BirthReaction(B, sigma),\n",
    "    ]\n",
    "}\n",
    "\n",
    "# Initialization of the world\n",
    "world = World(\n",
    "    size=size,\n",
    "    initial_densities={B: 0.0, A: 0.0},\n",
    "    hops={A: Hop(A, hA), B: Hop(B, hB)},\n",
    "    reactions=reactions,\n",
    ")\n",
    "\n",
    "# Let's fill the grid completely with B particles\n",
    "for site in world.lattice.sites:\n",
    "    for _ in range(5):\n",
    "        B.create_occupant(site)\n",
    "\n",
    "# And seed the center lattice site with A particles\n",
    "middle = world.lattice.sites[size[1]//2 * size[0] + size[0]//2]\n",
    "for _ in range(10):\n",
    "    A.create_occupant(middle)"
   ]
  },
  {
   "cell_type": "markdown",
   "metadata": {},
   "source": [
    "Again, we're ready to run the simulations. This will perform `T=200` Monte Carlo steps and record the state of the lattice at each step to see the activity front develop."
   ]
  },
  {
   "cell_type": "code",
   "execution_count": null,
   "metadata": {},
   "outputs": [],
   "source": [
    "from tqdm.notebook import tqdm\n",
    "tqdm.monitor_interval = 0\n",
    "\n",
    "# Initialize list that will hold a view of the lattice state at each step.\n",
    "# The first entry shows the initial distribution of species site occupants.\n",
    "numbers = [world.asarrays()]\n",
    "\n",
    "# Iterate over `T` time steps\n",
    "# `tqdm` is a tool to display a progress bar.\n",
    "for _ in tqdm(range(T), smoothing=0, desc=\"Simulation progress\"):\n",
    "    # Run a single time step\n",
    "    world.step()\n",
    "    # Save the state of the lattice (distribution of occupants)\n",
    "    numbers.append(world.asarrays())"
   ]
  },
  {
   "cell_type": "markdown",
   "metadata": {},
   "source": [
    "Let's visualize the results. As in the basic example. the code in the cell below displays an interactive graph where you can see the state of the lattice at each step (left side), together with a plot of the species densities over time (right side). "
   ]
  },
  {
   "cell_type": "code",
   "execution_count": null,
   "metadata": {},
   "outputs": [],
   "source": [
    "# Display matplotlib figures inline (not the interactive notebook extension)\n",
    "%matplotlib inline\n",
    "# Load modules\n",
    "from matplotlib.figure import Figure\n",
    "from ipywidgets import interact\n",
    "import numpy as np\n",
    "from IPython.display import display\n",
    "\n",
    "# Initialize figure and axes\n",
    "simul_fig = Figure(figsize=(8, 4), dpi=150)\n",
    "simul_ax = simul_fig.add_axes([0, 0, 0.5, 1])\n",
    "# We don't want any decorations on the axes.\n",
    "simul_ax.axis('off')\n",
    "simul_plot = simul_fig.add_axes([0.6, 0.1, 0.4, 0.8])\n",
    "\n",
    "# Extract densities from species distribution arrays\n",
    "N = size[0]*size[1]\n",
    "A_densities, B_densities = zip(*[(entry[\"A\"].sum()/N, entry[\"B\"].sum()/N) for entry in numbers])\n",
    "\n",
    "# Plot the densities\n",
    "simul_plot.plot(A_densities, color=\"red\", label=\"A\")\n",
    "simul_plot.plot(B_densities, color=\"blue\", label=\"B\")\n",
    "# Label the plot\n",
    "simul_plot.set_yscale(\"log\", base=10)\n",
    "simul_plot.set_ylabel(\"Species density [occupants/site]\")\n",
    "simul_plot.set_xlabel(\"Time [MC steps]\")\n",
    "\n",
    "# This code displays the correct view of the lattice given the MC step\n",
    "mappable = None\n",
    "vline = None\n",
    "def show_image(MC_step=0):\n",
    "    global mappable, vline  # Hackish, but easy, avoid global if possible.\n",
    "\n",
    "    # Load array of lattice occupant numbers\n",
    "    arrays = numbers[MC_step]\n",
    "    # Create a red and blue image\n",
    "    # `image` is a WxHx3 image where the three channels at the end correspond to red-green-blue\n",
    "    image = np.zeros((size[0], size[1], 3), dtype=np.uint8)\n",
    "    # Make a pixel that has at least one predator red, at least one prey blue and purple if both are present.\n",
    "    # Leave the green channel alone.\n",
    "    image[:, :, 0] = 255*(arrays[\"A\"] > 0)\n",
    "    image[:, :, 2] = 255*(arrays[\"B\"] > 0)\n",
    "    if mappable is None:\n",
    "        # We need to create the mappable first, afterwards we can just load data into it.\n",
    "        mappable = simul_ax.imshow(image)\n",
    "        # Similar for the vline indicating the MC step we're at.\n",
    "        vline = simul_plot.axvline(0, color=\"black\")\n",
    "    else:\n",
    "        # Load data into mappable and vline.\n",
    "        mappable.set_data(image)\n",
    "        vline.set_xdata([MC_step])\n",
    "\n",
    "    # Finally, display the updated figure.\n",
    "    display(simul_fig)\n",
    "\n",
    "# THis lets us have a slider to select the MC step to display.\n",
    "interact(show_image, MC_step=(0, len(numbers)-1))\n",
    "None"
   ]
  },
  {
   "cell_type": "markdown",
   "metadata": {},
   "source": [
    "For the first time step, you should see a sea of blue prey on the lattice, with a tiny red dot in the center (representing the predators). As you move the slider to the right, you see an activity front develop and spread outward. The graph on the right again shows the total density of predators and prey over time. With the default settings, the prey do not reproduce, hence as they are consumed, they density of prey diminishes. As the predators move outwards, they consume prey and reproduce forming a circular front. The density of predators increases therefore in a quadratic manner as the front expands. This continues until the front merges with itself via the periodic boundary of the lattice and the front distorts and eventually vanishes."
   ]
  },
  {
   "cell_type": "markdown",
   "metadata": {},
   "source": [
    "We now want to track the front as it moves outwards. Symmetry dictates that the front is circular on average. Therefore we can simply radially average the number of occupants of each species to calculate the density as a function of the distance from the lattice center. The function defined below accomplishes this."
   ]
  },
  {
   "cell_type": "code",
   "execution_count": null,
   "metadata": {},
   "outputs": [],
   "source": [
    "def radial_avg(a):\n",
    "    \"\"\"Given a two dimensional array `a`, calculate the radial average measured from the center.\"\"\"\n",
    "    # First we determine the distance `r` of each lattice site from the center of the lattice.\n",
    "    xx, yy = np.indices(a.shape)\n",
    "    r = np.sqrt((xx-a.shape[0]//2)**2 + (yy-a.shape[1]//2)**2).astype(int)\n",
    "\n",
    "    # Next, bin according to the integer distance values and weigh them according to the lattice occupancy.\n",
    "    tbin = np.bincount(r.ravel(), a.ravel())\n",
    "    # We also need to know the unweighed number of lattice sites in each bin.\n",
    "    nr = np.bincount(r.ravel())\n",
    "\n",
    "    # Calculate and return the average density in each distance bin.\n",
    "    return tbin / nr"
   ]
  },
  {
   "cell_type": "code",
   "execution_count": null,
   "metadata": {},
   "outputs": [],
   "source": [
    "# The time point `t` we choose to visualize the front at.\n",
    "t = 30\n",
    "\n",
    "# Radially average the predator and prey species densities\n",
    "# This is done so that we can identify how far from the lattice center the activity wave has travelled\n",
    "a = radial_avg(numbers[t]['A'])\n",
    "b = radial_avg(numbers[t]['B'])\n",
    "\n",
    "# Initialize the figure and plot the radially averaged densities\n",
    "fig = Figure()\n",
    "plot = fig.subplots(1, 1)\n",
    "plot.plot(a, color='red')\n",
    "plot.plot(b, color='blue')\n",
    "\n",
    "plot.set_xlabel('Distance from lattice center [sites]')\n",
    "plot.set_ylabel('Radially averaged species density [occupants/site]')\n",
    "\n",
    "plot.text(0.02, 0.98, f't={t}', ha='left', va='top', transform=plot.transAxes)\n",
    "\n",
    "display(fig)"
   ]
  },
  {
   "cell_type": "markdown",
   "metadata": {},
   "source": [
    "We see that the predators form a clear front with a density maximum at a radius of around `r=80` at time point `t=50`. They prey front precedes this, forming a neat S-shaped curve with an inflection point slightly further outward compared to the predator maximum. The distance between the predator maximum and the prey inflection point surely depends on both the predation rate `lam` and the predator death rate `mu`. We leave an investigation of this as an advanced exercise to the reader."
   ]
  },
  {
   "cell_type": "markdown",
   "metadata": {},
   "source": [
    "In order to find the position of the front as a function of time, we opt to fit the logistic function to the radial density of the prey (likely any other sigmoid function would work as well). The function below does exactly that. The fit extracts the location of the inflection point `x0`."
   ]
  },
  {
   "cell_type": "code",
   "execution_count": null,
   "metadata": {},
   "outputs": [],
   "source": [
    "from scipy.optimize import curve_fit\n",
    "from scipy.special import expit as logistic_function\n",
    "\n",
    "def extract_front_position(radial_density):\n",
    "    # Here, we use the radially averaged density of B particles and fit a logitistic function to it.\n",
    "    # This way, we can extract the location of the inflection point of this function at each time point.\n",
    "    x0 = curve_fit(lambda x, x0: 5*logistic_function(x-x0), np.arange(0, radial_density.shape[0]), radial_density)[0]\n",
    "    return x0"
   ]
  },
  {
   "cell_type": "markdown",
   "metadata": {},
   "source": [
    "In order for the fit to work well, we need to exclude the time points in which no prey are left (otherwise the least squares fitting algorithm will return an error). We also filter out front positions which indicate that the front is not circular anymore because it has merged through the periodic lattice boundary. This is accomplished by rejecting extracted front positions that are less than half the lattice size from the center."
   ]
  },
  {
   "cell_type": "code",
   "execution_count": null,
   "metadata": {},
   "outputs": [],
   "source": [
    "# Extract the front position for all time points for which there are still B particles on the lattice.\n",
    "# We also need to exclude the first time point, since no front has yet developed.\n",
    "pos = np.array([extract_front_position(radial_avg(timepoint['B'])) for timepoint in numbers[1:] if timepoint['B'].max() > 0.0])\n",
    "\n",
    "# Also exclude positions that are greater than the front radius that can be accommodated on the lattice\n",
    "pos = pos[pos < size[0] // 2]\n",
    "\n",
    "# Initialize the figure and plot the radially averaged densities\n",
    "fig = Figure()\n",
    "pos_plot, speed_plot = fig.subplots(2, 1, sharex=True)\n",
    "pos_plot.plot(pos, color='black')\n",
    "speed_plot.plot(np.diff(pos), color='black')\n",
    "\n",
    "speed_plot.set_xlabel('Time [MC step]')\n",
    "pos_plot.set_ylabel('Front position [sites]')\n",
    "speed_plot.set_ylabel('Front speed [sites / MC step]')\n",
    "speed_plot.axhline(np.diff(pos).mean(), color='black', ls='--')\n",
    "\n",
    "display(fig)"
   ]
  },
  {
   "cell_type": "markdown",
   "metadata": {},
   "source": [
    "We see that the front position linearly increases as a function of time. The speed (calculated as the position change between each time step) is relatively constant. The average speed is around 1.9 lattice sites per time step."
   ]
  },
  {
   "cell_type": "markdown",
   "metadata": {},
   "source": [
    "Next, we'd like to see how this average front speed changes as a function of the predation rate `lam`. We simply wrap the simulation setup in a function which we can run with different values of the parameters, see below:"
   ]
  },
  {
   "cell_type": "code",
   "execution_count": null,
   "metadata": {},
   "outputs": [],
   "source": [
    "def run_simulation(\n",
    "    size: tuple[float, float] = (150, 150),\n",
    "    mu: float = 0.2,\n",
    "    lam: float = 0.5,\n",
    "    hA: float = 1.0,\n",
    "    nB: int = 5,\n",
    "    nA: int = 10,\n",
    "    T: int = 50\n",
    "):\n",
    "    # Predator and prey species\n",
    "    A = Species(\"A\")\n",
    "    B = Species(\"B\")\n",
    "\n",
    "    # The reactions\n",
    "    reactions = {\n",
    "        A: [\n",
    "            PredationBirthReaction(A, B, lam),\n",
    "            DeathReaction(A, mu),\n",
    "        ],\n",
    "        B: []   # We leave B as non-reproductive here.\n",
    "    }\n",
    "\n",
    "    # Initialization of the world\n",
    "    world = World(\n",
    "        size=size,\n",
    "        initial_densities={B: 0.0, A: 0.0},  # We place particles of each species manually below.\n",
    "        hops={A: Hop(A, hA)},  # Only A is allowed to move, B is stationary.\n",
    "        reactions=reactions,\n",
    "    )\n",
    "\n",
    "    # Let's fill the grid completely with B particles\n",
    "    for site in world.lattice.sites:\n",
    "        for _ in range(nB):\n",
    "            B.create_occupant(site)\n",
    "\n",
    "    # And seed the center lattice site with A particles\n",
    "    middle = world.lattice.sites[size[1]//2 * size[0] + size[0]//2]\n",
    "    for _ in range(nA):\n",
    "        A.create_occupant(middle)\n",
    "\n",
    "    # Initialize list that will hold a view of the lattice state at each step.\n",
    "    # The first entry shows the initial distribution of species site occupants.\n",
    "    numbers = [world.asarrays()]\n",
    "\n",
    "    # Iterate over `T` time steps\n",
    "    # `tqdm` is a tool to display a progress bar.\n",
    "    for _ in tqdm(range(T), smoothing=0, desc=\"Simulation progress\"):\n",
    "        # Run a single time step\n",
    "        world.step()\n",
    "        # Save the state of the lattice (distribution of occupants)\n",
    "        numbers.append(world.asarrays())\n",
    "    \n",
    "    return numbers"
   ]
  },
  {
   "cell_type": "markdown",
   "metadata": {},
   "source": [
    "This allows us to then execute the function `run_simulation` with different values of `lam`. We are simply repeating the steps we had done above again for each value of `lam`. Running this might well take several hours, depending on the hardware."
   ]
  },
  {
   "cell_type": "code",
   "execution_count": null,
   "metadata": {},
   "outputs": [],
   "source": [
    "# List of predation rate values we want to extract the speed for.\n",
    "lam_list = np.linspace(0.25, 1.0, 10)\n",
    "\n",
    "# These lists will hold the average speed and its standard deviation for each value of `lam` respectively.\n",
    "average_speed = []\n",
    "std_speed = []\n",
    "\n",
    "# Now loop over all values of `lam`.\n",
    "for lam in tqdm(lam_list):\n",
    "    # Run the simulation.\n",
    "    numbers = run_simulation(lam=lam)\n",
    "\n",
    "    # Extract the front position for all time points for which there are still B particles on the lattice.\n",
    "    # We also need to exclude the first time point, since no front has yet developed.\n",
    "    pos = np.array([extract_front_position(radial_avg(timepoint['B'])) for timepoint in numbers[1:] if timepoint['B'].max() > 0.0])\n",
    "\n",
    "    # Also exclude positions that are greater than the front radius that can be accommodated on the lattice\n",
    "    pos = pos[pos < size[0] // 2]\n",
    "\n",
    "    speed = np.diff(pos)\n",
    "    average_speed.append(speed.mean())\n",
    "    std_speed.append(speed.std())"
   ]
  },
  {
   "cell_type": "code",
   "execution_count": null,
   "metadata": {},
   "outputs": [],
   "source": [
    "# Bring the data into a plottable format\n",
    "lams = np.array(lam_list[:len(average_speed)])\n",
    "average_speeds = np.array(average_speed)\n",
    "std_speeds = np.array(std_speed)\n",
    "\n",
    "# Plot the average speed, with the standard deviation as shaded area around it \n",
    "fig = Figure()\n",
    "ax = fig.subplots(1, 1)\n",
    "ax.plot(lams, average_speeds)\n",
    "ax.fill_between(lams, average_speeds - std_speeds, average_speeds + std_speeds, color='C0', alpha=0.25)\n",
    "\n",
    "ax.set_xlabel(r'Predation rate $\\lambda$')\n",
    "ax.set_ylabel('Activity front speed [sites/MC step]')\n",
    "display(fig)"
   ]
  },
  {
   "cell_type": "markdown",
   "metadata": {},
   "source": [
    "We can clearly see that the front speed increases with the predation rate. While this relationship seems linear, there is a slight curvature. Please see [Dobramysl, Tauber, Spatial Variability Enhances Species Fitness in Stochastic Predator-Prey Interactions] for a deeper analysis of this topic. We leave the exploration of the front speed dependence on the other parameters as an exercise to the reader."
   ]
  }
 ],
 "metadata": {
  "kernelspec": {
   "display_name": ".venv",
   "language": "python",
   "name": "python3"
  },
  "language_info": {
   "codemirror_mode": {
    "name": "ipython",
    "version": 3
   },
   "file_extension": ".py",
   "mimetype": "text/x-python",
   "name": "python",
   "nbconvert_exporter": "python",
   "pygments_lexer": "ipython3",
   "version": "3.12.4"
  },
  "orig_nbformat": 4
 },
 "nbformat": 4,
 "nbformat_minor": 2
}
