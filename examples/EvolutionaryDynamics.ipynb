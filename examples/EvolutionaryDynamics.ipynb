{
 "cells": [
  {
   "cell_type": "markdown",
   "metadata": {},
   "source": [
    "# Evolutionary Dynamics in the Lotka-Volterra Model"
   ]
  },
  {
   "cell_type": "markdown",
   "metadata": {},
   "source": [
    "In this example, we explore a very simple model for evolutionary dynamics within the context of a spatially extended stochastic Lotka-Volterra system. In particular, we shall change the predator-prey interaction from a fixed rate to being dependent on traits of both the participating individual species members."
   ]
  },
  {
   "cell_type": "markdown",
   "metadata": {},
   "source": [
    "To start, we need to load the `pymes` library. We only load what we need so not to clutter our environment."
   ]
  },
  {
   "cell_type": "code",
   "execution_count": null,
   "metadata": {},
   "outputs": [],
   "source": [
    "from pymes import World, Species, BirthReaction, DeathReaction, PredationBirthReaction, Hop, Occupant\n",
    "from pymes.pymes import Site\n",
    "\n",
    "import numpy as np"
   ]
  },
  {
   "cell_type": "markdown",
   "metadata": {},
   "source": [
    "In contrast to the previous examples, here we will need to modify our species, occupant and reaction objects to allow for having traits, passing them on to offspring with some variation and allowing the interaction reaction to be dependent on these traits."
   ]
  },
  {
   "cell_type": "markdown",
   "metadata": {},
   "source": [
    "First of all, we need a way for new trait values to be chosen. Our trait values will be from the interval $(0, 1)$. Here, we use a normal distribution that is truncated to this interval, a mean that is set to the parent's trait value and a width that controls how much an offspring's trait value can deviate from its parent's trait value. This is a very simply choice, that's easy to understand and already leads to interesting results. However, other options are possible, for example using a symmetrized Beta distribution."
   ]
  },
  {
   "cell_type": "code",
   "execution_count": null,
   "metadata": {},
   "outputs": [],
   "source": [
    "def truncated_normal(rng: np.random.Generator, mean: float, width: float):\n",
    "    while True:\n",
    "        r = np.random.normal(mean, width)\n",
    "        if r > 0 and r < 1:\n",
    "            return r"
   ]
  },
  {
   "cell_type": "markdown",
   "metadata": {},
   "source": [
    "Next, we subclass the `Occupant` class to allow for `Occupant`s to have `trait` values. The initializer of this new class has a new `trait` argument that gets set on the new object after calling the `Occupant` class' initializer. "
   ]
  },
  {
   "cell_type": "code",
   "execution_count": null,
   "metadata": {},
   "outputs": [],
   "source": [
    "class TraitOccupant(Occupant):\n",
    "    def __init__(self, species: Species, initial_site: Site, trait: float):\n",
    "        Occupant.__init__(self, species, initial_site)\n",
    "        self.trait = trait"
   ]
  },
  {
   "cell_type": "markdown",
   "metadata": {},
   "source": [
    "We also need to subclass `Species` to implement the whole `trait` functionality. We introduce a new `EvolvingSpecies` subclass that has two new parameters, `mutation_parameter` and `initial_trait`. The `mutation_parameter` sets the width of the truncated normal distribution and thus controls the \"mutation rate\". The `inital_trait` parameter simply sets the initial trait value at the start of a simulation run (0.5 is a good choice).\n",
    "\n",
    "We now have to also slightly change how new occupants are created. Therefore, we need to override the `create_occupant` member function of the original `Species` class. This new function gets passed the parent occupant's trait value and receives a new trait value from the truncated normal distribution. If the parent trait value is not set (i.e. it is `None`), the `initial_trait` value is used. The function then returns a new `TraitOccupant` object with the new trait value at the given site.\n",
    "\n",
    "Finally, we introduce a member function called `trait_frequencies`. This allows us to extract a snapshot of the distribution of trait values, which illustrates how the two species adapt their traits over time."
   ]
  },
  {
   "cell_type": "code",
   "execution_count": null,
   "metadata": {},
   "outputs": [],
   "source": [
    "class EvolvingSpecies(Species):\n",
    "    def __init__(self, name: str, mutation_parameter: float, initial_trait: float):\n",
    "        Species.__init__(self, name)\n",
    "        self.mutation_parameter = mutation_parameter\n",
    "        self.initial_trait = initial_trait\n",
    "\n",
    "    def create_occupant(self, initial_site: Site, parent: TraitOccupant | None=None, rng: np.random.Generator=None) -> Occupant:\n",
    "        if parent is None:\n",
    "            trait = self.initial_trait\n",
    "        else:\n",
    "            trait = truncated_normal(rng, parent.trait, self.mutation_parameter)\n",
    "        return TraitOccupant(self, initial_site, trait)\n",
    "    \n",
    "    def trait_frequencies(self, nr_bins: int=51):\n",
    "        members: list[TraitOccupant] = self.members\n",
    "        H, _ = np.histogram(\n",
    "            [occupant.trait for occupant in members],\n",
    "            bins=nr_bins,\n",
    "            range=(0, 1),\n",
    "            density=True,\n",
    "        )\n",
    "        return H\n"
   ]
  },
  {
   "cell_type": "markdown",
   "metadata": {},
   "source": [
    "The last thing we need to change is how the predation birth reaction decides if the reaction takes place or not. The `PredationBirthReaction` class simply generates a random number and compares this with the given rate. We now subclass to create `TraitPredationBirthReaction` and override the `decide` member function. This new version calculates a combined rate that is simply the average of the predator and prey occupants' traits. Again, as for the truncated normal distribution, other implementations can be explored. However, this is simply and straightforward to understand. A prey has an advantage if its `trait` value is low, a predator has an advantage if its `trait` value is high.\n",
    "\n",
    "The final `combined_rate` is then compared with a randomly generated number $r$ between zero and one and the reaction takes place if $r$ is smaller than `combined_rate`."
   ]
  },
  {
   "cell_type": "code",
   "execution_count": null,
   "metadata": {},
   "outputs": [],
   "source": [
    "class TraitPredationBirthReaction(PredationBirthReaction):\n",
    "    def decide(self, participants: list[TraitOccupant], rng: np.random.Generator):\n",
    "        predator, prey = participants\n",
    "        combined_rate = 0.5 * (predator.trait + prey.trait)\n",
    "        return (combined_rate >= 1.0) or (rng.random() < combined_rate)"
   ]
  },
  {
   "cell_type": "markdown",
   "metadata": {},
   "source": [
    "Next, as before, we set up the world. The following are the parameters of the simulation:\n",
    "* `size`: As in the other examples, is the size of the 2D lattice and is specified as a tuple of two integers (the width and the height). It is good to keep this small to keep simulation times low, start with `(100, 100)`.\n",
    "* `sigma`: This is the prey (species \"B\") birth rate. It regulates how quickly prey will reproduce.\n",
    "* `mu`: This is the predator (species \"A\") death rate. It regulates how quickly predators are removed from the system.\n",
    "* `nuA`: This is the predator (species \"A\") mutation rate (i.e. the width of the truncated normal distribution). It controls how quickly the species adapts.\n",
    "* `nuB`: This is the prey (species \"B\") mutation rate (i.e. the width of the truncated normal distribution). It controls how quickly the species adapts.\n",
    "* `hA` and `hB`: This is the hop rate, which in typically is left at a value of `1` since this will only rescale time. It could be varied for each species separately, such that prey e.g. more static than predators or vice-versa.\n",
    "* `rhoA` and `rhoB`: This is the initial density of the predators (species \"A\") and prey (species \"B\"). It specifies how many occupants of each species will be present on each lattice site on average.\n",
    "* `T`: Specifies the end time of the simulation, i.e. how many Monte Carlo steps will be performed."
   ]
  },
  {
   "cell_type": "code",
   "execution_count": null,
   "metadata": {},
   "outputs": [],
   "source": [
    "# The simulation parameters\n",
    "size = (100, 100)\n",
    "sigma: float = 0.2\n",
    "mu: float = 0.2\n",
    "nuA: float = 0.05\n",
    "nuB: float = 0.05\n",
    "hA: float = 1.0\n",
    "hB: float = 1.0\n",
    "rhoA: float = 0.1\n",
    "rhoB: float = 0.1\n",
    "T: int = 400\n",
    "\n",
    "# Predator and prey species\n",
    "A = EvolvingSpecies(\"A\", nuA, 0.5)\n",
    "B = EvolvingSpecies(\"B\", nuB, 0.5)\n",
    "\n",
    "# The reactions\n",
    "reactions = {\n",
    "    A: [\n",
    "        TraitPredationBirthReaction(A, B, None),\n",
    "        DeathReaction(A, mu),\n",
    "    ],\n",
    "    B: [\n",
    "        BirthReaction(B, sigma),\n",
    "    ]\n",
    "}\n",
    "\n",
    "# Initialization of the world\n",
    "world = World(\n",
    "    size=size,\n",
    "    initial_densities={B: rhoB, A: rhoA},\n",
    "    hops={A: Hop(A, hA), B: Hop(B, hB)},\n",
    "    reactions=reactions,\n",
    ")"
   ]
  },
  {
   "cell_type": "markdown",
   "metadata": {},
   "source": [
    "Now we're ready to tun the simulations. We run `T` Monte Carlo steps (default is 400). How long this takes will depend on the parameter settings above and the hardware this is being run on.\n",
    "\n",
    "At each time step, we record the distribution of trait values for each of the two species in the lists `frequencyA` and `frequencyB`."
   ]
  },
  {
   "cell_type": "code",
   "execution_count": null,
   "metadata": {},
   "outputs": [],
   "source": [
    "from tqdm.notebook import tqdm\n",
    "tqdm.monitor_interval = 0\n",
    "\n",
    "# Initialize list that will hold a view of the lattice state at each step.\n",
    "# The first entry shows the initial distribution of species site occupants.\n",
    "numbers = [world.asarrays()]\n",
    "frequencyA = [A.trait_frequencies()]\n",
    "frequencyB = [B.trait_frequencies()]\n",
    "\n",
    "# Iterate over `T` time steps\n",
    "# `tqdm` is a tool to display a progress bar.\n",
    "for _ in tqdm(range(T), smoothing=0, desc=\"Simulation progress\"):\n",
    "    # Run a single time step\n",
    "    world.step()\n",
    "    # Save the state of the lattice (distribution of occupants)\n",
    "    numbers.append(world.asarrays())\n",
    "    frequencyA.append(A.trait_frequencies())\n",
    "    frequencyB.append(B.trait_frequencies())"
   ]
  },
  {
   "cell_type": "markdown",
   "metadata": {},
   "source": [
    "After this has successfully run, we'd like to visualize the results. The code in the cell below displays an interactive graph where you can see the state of the lattice at each step (left side), together with a plot of the species densities over time (right side). "
   ]
  },
  {
   "cell_type": "code",
   "execution_count": null,
   "metadata": {},
   "outputs": [],
   "source": [
    "# Display matplotlib figures inline (not the interactive notebook extension)\n",
    "%matplotlib inline\n",
    "# Load modules\n",
    "from matplotlib.figure import Figure\n",
    "from ipywidgets import interact\n",
    "import numpy as np\n",
    "from IPython.display import display\n",
    "\n",
    "# Initialize figure and axes\n",
    "fig = Figure(figsize=(8, 4), dpi=150)\n",
    "ax = fig.add_axes([0, 0, 0.5, 1])\n",
    "# We don't want any decorations on the axes.\n",
    "ax.axis('off')\n",
    "plot = fig.add_axes([0.6, 0.6, 0.4, 0.4])\n",
    "\n",
    "# Extract densities from species distribution arrays\n",
    "N = size[0]*size[1]\n",
    "A_densities, B_densities = zip(*[(entry[\"A\"].sum()/N, entry[\"B\"].sum()/N) for entry in numbers])\n",
    "\n",
    "# Plot the densities\n",
    "plot.plot(A_densities, color=\"red\", label=\"A\")\n",
    "plot.plot(B_densities, color=\"blue\", label=\"B\")\n",
    "# Label the plot\n",
    "plot.set_yscale(\"log\", base=10)\n",
    "plot.set_ylabel(\"Species density [occupants/site]\")\n",
    "plot.set_xlabel(\"Time [MC steps]\")\n",
    "\n",
    "freq_plot = fig.add_axes([0.6, 0.1, 0.4, 0.4])\n",
    "freq_plot.set_ylabel(\"Trait frequency\")\n",
    "freq_plot.set_xlabel(\"Trait value\")\n",
    "\n",
    "# This code displays the correct view of the lattice given the MC step\n",
    "mappable = None\n",
    "vline = None\n",
    "def show_image(MC_step=0):\n",
    "    global mappable, vline, freqA, freqB  # Hackish, but easy, avoid global if possible.\n",
    "\n",
    "    # Load array of lattice occupant numbers\n",
    "    arrays = numbers[MC_step]\n",
    "    # Create a red and blue image\n",
    "    # `image` is a WxHx3 image where the three channels at the end correspond to red-green-blue\n",
    "    image = np.zeros((size[0], size[1], 3), dtype=np.uint8)\n",
    "    # Make a pixel that has at least one predator red, at least one prey blue and purple if both are present.\n",
    "    # Leave the green channel alone.\n",
    "    image[:, :, 0] = 255*(arrays[\"A\"] > 0)\n",
    "    image[:, :, 2] = 255*(arrays[\"B\"] > 0)\n",
    "    if mappable is None:\n",
    "        # We need to create the mappable first, afterwards we can just load data into it.\n",
    "        mappable = ax.imshow(image)\n",
    "        # Similar for the vline indicating the MC step we're at.\n",
    "        vline = plot.axvline(MC_step, color=\"black\")\n",
    "        x = (np.arange(51) + 0.5)/51\n",
    "        freqA = freq_plot.plot(x, frequencyA[MC_step], '-', color='red')[0]\n",
    "        freqB = freq_plot.plot(x, frequencyB[MC_step], '-', color='blue')[0]\n",
    "    else:\n",
    "        # Load data into mappable and vline.\n",
    "        mappable.set_data(image)\n",
    "        vline.set_xdata([MC_step])\n",
    "        freqA.set_ydata(frequencyA[MC_step])\n",
    "        freqB.set_ydata(frequencyB[MC_step])\n",
    "        freq_plot.relim()\n",
    "        freq_plot.autoscale_view(True, True, True)\n",
    "\n",
    "    # Finally, display the updated figure.\n",
    "    display(fig)\n",
    "\n",
    "# THis lets us have a slider to select the MC step to display.\n",
    "interact(show_image, MC_step=(0, len(numbers)-1))\n",
    "None"
   ]
  },
  {
   "cell_type": "markdown",
   "metadata": {},
   "source": [
    "With the default parameters, what you should see if you scroll through the MC steps above are the damped Lotka-Volterra oscillations. The trait frequencies in the lower right panel show how the predators (red) adapt to higher trait values (they become more proficient at hunting prey) while the prey (blue) adapt to lower trait values (they become better at evasion). "
   ]
  }
 ],
 "metadata": {
  "kernelspec": {
   "display_name": ".venv",
   "language": "python",
   "name": "python3"
  },
  "language_info": {
   "codemirror_mode": {
    "name": "ipython",
    "version": 3
   },
   "file_extension": ".py",
   "mimetype": "text/x-python",
   "name": "python",
   "nbconvert_exporter": "python",
   "pygments_lexer": "ipython3",
   "version": "3.12.4"
  },
  "orig_nbformat": 4
 },
 "nbformat": 4,
 "nbformat_minor": 2
}
