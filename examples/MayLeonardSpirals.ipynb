{
 "cells": [
  {
   "cell_type": "markdown",
   "metadata": {},
   "source": [
    "# The May-Leonhard Model"
   ]
  },
  {
   "cell_type": "markdown",
   "metadata": {},
   "source": [
    "In this example, we come to a different type of model system, the three-species May-Leonhard Model. It is also sometimes called the cyclic Lotka-Volterra model for the simple reason that its three species A, B and C are interacting in a cyclic manner - A consumes B, B consumes C and C consumes A. In contrast to the closely related Rock-Paper-Scissors model, the May-Leonhard model does not incorporate reproduction in its predation reactions, but has independent reproduction processes for each species. The most striking feature of this model when run on a two-dimensional lattice is the emerging spiral structures. We will strive to reproduce these spirals here.  "
   ]
  },
  {
   "cell_type": "markdown",
   "metadata": {},
   "source": [
    "To start, we again need to load the `pymes` library. We only load what we need so not to clutter our environment."
   ]
  },
  {
   "cell_type": "code",
   "execution_count": null,
   "metadata": {},
   "outputs": [],
   "source": [
    "from pymes import World, Species, BirthReaction, PredationReaction, Hop"
   ]
  },
  {
   "cell_type": "markdown",
   "metadata": {},
   "source": [
    "Next, we set up the world. This involves setting up the species (the predator A and the prey B) and the reactions (B can give birth, A can die and predate upon B). The following are the parameters of the simulation:\n",
    "* `size`: This is the size of the 2D lattice and is specified as a tuple of two integers (the width and the height) like so `(256, 256)`. It is a good idea to start small since larger lattices take more memory and more computational time to simulate.\n",
    "* `sigma`: This is the predation rate of all three species, i.e. the rate with which A consumes B, B consumes C and C consumes A. For simplicity, we only look at the symmetric version wherein the rates are the same for all three species.\n",
    "* `mu`: This is the reproduction rate of all three species.\n",
    "* `h`: This is the hop rate, which in typically is left at a value of `1` since this will only rescale time. It could be varied for each species separately, such that one species moves slower than the others. Again, for simplicity's sake, we only look at the symmetric case.\n",
    "* `rho`: This is the initial density of each of the three species. It specifies how many occupants of each species will be present on each lattice site on average.\n",
    "* `T`: Specifies the end time of the simulation, i.e. how many Monte Carlo steps will be performed.\n",
    "* `K`: This is the carrying capacity of the lattice sites. It determines how many particles a site can hold. We have this set to 1 here.\n",
    "\n",
    "One crucial difference to the previous examples is that we introduce a carrying capacity into the system, and that this carrying capacity is set to one. Internally this changes the microscopic rules, such that interaction occurs across neighboring lattice sites rather than on the same site, and particles swap positions instead of simply hopping from lattice site to lattice site. "
   ]
  },
  {
   "cell_type": "code",
   "execution_count": null,
   "metadata": {},
   "outputs": [],
   "source": [
    "# The simulation parameters\n",
    "size = (250, 250)\n",
    "sigma: float = 0.1\n",
    "mu: float = 0.1\n",
    "h: float = 1.0\n",
    "rho: float = 0.01\n",
    "T: int = 1000\n",
    "K: int = 1\n",
    "\n",
    "# Predator and prey species\n",
    "A = Species(\"A\")\n",
    "B = Species(\"B\")\n",
    "C = Species(\"C\")\n",
    "\n",
    "# The reactions\n",
    "reactions = {\n",
    "    A: [\n",
    "        PredationReaction(A, B, sigma),\n",
    "        BirthReaction(A, mu),\n",
    "    ],\n",
    "    B: [\n",
    "        PredationReaction(B, C, sigma),\n",
    "        BirthReaction(B, mu),\n",
    "    ],\n",
    "    C: [\n",
    "        PredationReaction(C, A, sigma),\n",
    "        BirthReaction(C, mu),\n",
    "    ],\n",
    "}\n",
    "\n",
    "# Initialization of the world\n",
    "world = World(\n",
    "    size=size,\n",
    "    initial_densities={A: rho, B: rho, C: rho},\n",
    "    hops={A: Hop(A, h), B: Hop(B, h), C: Hop(C, h)},\n",
    "    reactions=reactions,\n",
    "    carrying_capacity=K,\n",
    ")"
   ]
  },
  {
   "cell_type": "markdown",
   "metadata": {},
   "source": [
    "Now we're ready to tun the simulations. We run `T` Monte Carlo steps (default is 1000). How long this takes will depend on the parameter settings above and the hardware this is being run on. With the default parameters on a typical machine it takes about three hours). This might be significantly more or less depending on the specific hardware.\n",
    "\n",
    "Please note that the goal of the `pymes` module is not computational efficiency but rather code clarity as it is an educational project. This could easily be made to run 100x faster if proper optimizations are applied, however this would sacrifice the readability of the module's code."
   ]
  },
  {
   "cell_type": "code",
   "execution_count": null,
   "metadata": {},
   "outputs": [],
   "source": [
    "from tqdm.notebook import tqdm\n",
    "tqdm.monitor_interval = 0\n",
    "\n",
    "# Initialize list that will hold a view of the lattice state at each step.\n",
    "# The first entry shows the initial distribution of species site occupants.\n",
    "numbers = [world.asarrays()]\n",
    "\n",
    "# Iterate over `T` time steps\n",
    "# `tqdm` is a tool to display a progress bar.\n",
    "for _ in tqdm(range(T), smoothing=0, desc=\"Simulation progress\"):\n",
    "    # Run a single time step\n",
    "    world.step()\n",
    "    # Save the state of the lattice (distribution of occupants)\n",
    "    numbers.append(world.asarrays())"
   ]
  },
  {
   "cell_type": "markdown",
   "metadata": {},
   "source": [
    "After this has successfully run, we'd like to visualize the results. The code in the cell below displays an interactive graph where you can see the state of the lattice at each step (left side), together with a plot of the species densities over time (right side). "
   ]
  },
  {
   "cell_type": "code",
   "execution_count": null,
   "metadata": {},
   "outputs": [],
   "source": [
    "# Display matplotlib figures inline (not the interactive notebook extension)\n",
    "%matplotlib inline\n",
    "# Load modules\n",
    "from matplotlib.figure import Figure\n",
    "from ipywidgets import interact\n",
    "import numpy as np\n",
    "from IPython.display import display\n",
    "\n",
    "# Initialize figure and axes\n",
    "fig = Figure(figsize=(8, 4), dpi=150)\n",
    "ax = fig.add_axes([0, 0, 0.5, 1])\n",
    "# We don't want any decorations on the axes.\n",
    "ax.axis('off')\n",
    "plot = fig.add_axes([0.6, 0.1, 0.4, 0.8])\n",
    "\n",
    "# Extract densities from species distribution arrays\n",
    "N = size[0]*size[1]\n",
    "densities = {\n",
    "    species.name: [timepoint[species.name].sum()/N for timepoint in numbers]\n",
    "    for species in world.species\n",
    "}\n",
    "\n",
    "# Plot the densities\n",
    "for species, density in sorted(densities.items()):\n",
    "    plot.plot(density, label=species)\n",
    "\n",
    "# Label the plot\n",
    "plot.set_yscale(\"log\", base=10)\n",
    "plot.set_ylabel(\"Species density [occupants/site]\")\n",
    "plot.set_xlabel(\"Time [MC steps]\")\n",
    "\n",
    "# This code displays the correct view of the lattice given the MC step\n",
    "mappable = None\n",
    "vline = None\n",
    "def show_image(MC_step=0):\n",
    "    global mappable, vline  # Hackish, but easy, avoid global if possible.\n",
    "\n",
    "    # Load array of lattice occupant numbers\n",
    "    arrays = numbers[MC_step]\n",
    "    # Create a red and blue image\n",
    "    # `image` is a WxHx3 image where the three channels at the end correspond to red-green-blue\n",
    "    image = np.zeros((size[0], size[1], 3), dtype=np.uint8)\n",
    "    # Make a pixel that has at least one predator red, at least one prey blue and purple if both are present.\n",
    "    # Leave the green channel alone.\n",
    "    image[:, :, 0] = 255*(arrays[\"A\"] > 0)\n",
    "    image[:, :, 1] = 255*(arrays[\"C\"] > 0)\n",
    "    image[:, :, 2] = 255*(arrays[\"B\"] > 0)\n",
    "    if mappable is None:\n",
    "        # We need to create the mappable first, afterwards we can just load data into it.\n",
    "        mappable = ax.imshow(image)\n",
    "        # Similar for the vline indicating the MC step we're at.\n",
    "        vline = plot.axvline(0, color=\"black\")\n",
    "    else:\n",
    "        # Load data into mappable and vline.\n",
    "        mappable.set_data(image)\n",
    "        vline.set_xdata([MC_step])\n",
    "\n",
    "    # Finally, display the updated figure.\n",
    "    display(fig)\n",
    "\n",
    "# THis lets us have a slider to select the MC step to display.\n",
    "interact(show_image, MC_step=(0, len(numbers)-1))\n",
    "None"
   ]
  },
  {
   "cell_type": "markdown",
   "metadata": {},
   "source": [
    "After the initial transient growth in population of all three species, what you should see are cyclic activity fronts, which form localised spiral structures. They always occur in pairs, with opposite direction of rotation (but this can be hard to see when multiple spirals are close to each other)."
   ]
  }
 ],
 "metadata": {
  "kernelspec": {
   "display_name": ".venv",
   "language": "python",
   "name": "python3"
  },
  "language_info": {
   "codemirror_mode": {
    "name": "ipython",
    "version": 3
   },
   "file_extension": ".py",
   "mimetype": "text/x-python",
   "name": "python",
   "nbconvert_exporter": "python",
   "pygments_lexer": "ipython3",
   "version": "3.12.4"
  },
  "orig_nbformat": 4
 },
 "nbformat": 4,
 "nbformat_minor": 2
}
